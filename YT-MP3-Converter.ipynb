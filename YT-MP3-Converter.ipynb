{
  "nbformat": 4,
  "nbformat_minor": 0,
  "metadata": {
    "colab": {
      "provenance": []
    },
    "kernelspec": {
      "name": "python3",
      "display_name": "Python 3"
    },
    "language_info": {
      "name": "python"
    }
  },
  "cells": [
    {
      "cell_type": "code",
      "execution_count": null,
      "metadata": {
        "colab": {
          "base_uri": "https://localhost:8080/",
          "height": 1000
        },
        "id": "UrsK_7S6hmrN",
        "outputId": "b0bcdebd-bdbf-4b2e-e75a-7b39e1b68640"
      },
      "outputs": [
        {
          "output_type": "stream",
          "name": "stdout",
          "text": [
            "Requirement already satisfied: yt-dlp in /usr/local/lib/python3.11/dist-packages (2025.4.30)\n",
            "Reading package lists... Done\n",
            "Building dependency tree... Done\n",
            "Reading state information... Done\n",
            "ffmpeg is already the newest version (7:4.4.2-0ubuntu0.22.04.1).\n",
            "0 upgraded, 0 newly installed, 0 to remove and 34 not upgraded.\n",
            "Requirement already satisfied: tqdm in /usr/local/lib/python3.11/dist-packages (4.67.1)\n",
            "🔘 Type '1' to download a single video, or '2' for a full playlist: 2\n",
            "🎵 Paste the YouTube playlist URL: https://youtube.com/playlist?list=PLDd6GfZPNFtMES_e4zTcaxxMLaQkHORsI&si=WWjveaBAVkkc_sQr\n",
            "[youtube:tab] Extracting URL: https://youtube.com/playlist?list=PLDd6GfZPNFtMES_e4zTcaxxMLaQkHORsI&si=WWjveaBAVkkc_sQr\n",
            "[youtube:tab] PLDd6GfZPNFtMES_e4zTcaxxMLaQkHORsI: Downloading webpage\n"
          ]
        },
        {
          "output_type": "stream",
          "name": "stderr",
          "text": [
            "WARNING: [youtube:tab] YouTube said: INFO - 1 unavailable video is hidden\n"
          ]
        },
        {
          "output_type": "stream",
          "name": "stdout",
          "text": [
            "[youtube:tab] PLDd6GfZPNFtMES_e4zTcaxxMLaQkHORsI: Redownloading playlist API JSON with unavailable videos\n",
            "[download] Downloading playlist: Music Test\n",
            "[youtube:tab] PLDd6GfZPNFtMES_e4zTcaxxMLaQkHORsI page 1: Downloading API JSON\n",
            "[youtube:tab] Playlist Music Test: Downloading 4 items of 4\n",
            "[download] Downloading item 1 of 4\n",
            "[youtube] Extracting URL: https://www.youtube.com/watch?v=w_VQJBWvJcI\n",
            "[youtube] w_VQJBWvJcI: Downloading webpage\n",
            "[youtube] w_VQJBWvJcI: Downloading tv client config\n",
            "[youtube] w_VQJBWvJcI: Downloading tv player API JSON\n",
            "[youtube] w_VQJBWvJcI: Downloading ios player API JSON\n",
            "[youtube] w_VQJBWvJcI: Downloading m3u8 information\n",
            "[info] w_VQJBWvJcI: Downloading 1 format(s): 251\n",
            "[download] Destination: /content/mp3_downloads/SLAVA FUNK!.webm\n",
            "[download] 100% of    1.79MiB in 00:00:00 at 5.41MiB/s   \n",
            "✅ Finished downloading: /content/mp3_downloads/SLAVA FUNK!.webm\n",
            "\n",
            "[ExtractAudio] Destination: /content/mp3_downloads/SLAVA FUNK!.mp3\n",
            "Deleting original file /content/mp3_downloads/SLAVA FUNK!.webm (pass -k to keep)\n",
            "[download] Downloading item 2 of 4\n",
            "[youtube] Extracting URL: https://www.youtube.com/watch?v=4TYv2PhG89A\n",
            "[youtube] 4TYv2PhG89A: Downloading webpage\n",
            "[youtube] 4TYv2PhG89A: Downloading tv client config\n",
            "[youtube] 4TYv2PhG89A: Downloading tv player API JSON\n",
            "[youtube] 4TYv2PhG89A: Downloading ios player API JSON\n",
            "[youtube] 4TYv2PhG89A: Downloading m3u8 information\n",
            "[info] 4TYv2PhG89A: Downloading 1 format(s): 251\n",
            "[download] Destination: /content/mp3_downloads/Sade - Smooth Operator - Official - 1984.webm\n",
            "[download] 100% of    4.39MiB in 00:00:00 at 11.64MiB/s  \n",
            "✅ Finished downloading: /content/mp3_downloads/Sade - Smooth Operator - Official - 1984.webm\n",
            "\n",
            "[ExtractAudio] Destination: /content/mp3_downloads/Sade - Smooth Operator - Official - 1984.mp3\n",
            "Deleting original file /content/mp3_downloads/Sade - Smooth Operator - Official - 1984.webm (pass -k to keep)\n",
            "[download] Downloading item 3 of 4\n",
            "[youtube] Extracting URL: https://www.youtube.com/watch?v=xMV6l2y67rk\n",
            "[youtube] xMV6l2y67rk: Downloading webpage\n",
            "[youtube] xMV6l2y67rk: Downloading tv client config\n",
            "[youtube] xMV6l2y67rk: Downloading tv player API JSON\n",
            "[youtube] xMV6l2y67rk: Downloading ios player API JSON\n"
          ]
        },
        {
          "output_type": "stream",
          "name": "stderr",
          "text": [
            "ERROR: [youtube] xMV6l2y67rk: Video unavailable. This video is not available\n"
          ]
        },
        {
          "output_type": "stream",
          "name": "stdout",
          "text": [
            "[download] Downloading item 4 of 4\n",
            "[youtube] Extracting URL: https://www.youtube.com/watch?v=8UVNT4wvIGY\n",
            "[youtube] 8UVNT4wvIGY: Downloading webpage\n",
            "[youtube] 8UVNT4wvIGY: Downloading tv client config\n",
            "[youtube] 8UVNT4wvIGY: Downloading tv player API JSON\n",
            "[youtube] 8UVNT4wvIGY: Downloading ios player API JSON\n",
            "[youtube] 8UVNT4wvIGY: Downloading m3u8 information\n",
            "[info] 8UVNT4wvIGY: Downloading 1 format(s): 251\n",
            "[download] Destination: /content/mp3_downloads/Gotye - Somebody That I Used To Know (feat. Kimbra) [Official Music Video].webm\n",
            "[download] 100% of    3.77MiB in 00:00:00 at 10.37MiB/s  \n",
            "✅ Finished downloading: /content/mp3_downloads/Gotye - Somebody That I Used To Know (feat. Kimbra) [Official Music Video].webm\n",
            "\n",
            "[ExtractAudio] Destination: /content/mp3_downloads/Gotye - Somebody That I Used To Know (feat. Kimbra) [Official Music Video].mp3\n",
            "Deleting original file /content/mp3_downloads/Gotye - Somebody That I Used To Know (feat. Kimbra) [Official Music Video].webm (pass -k to keep)\n",
            "[download] Finished downloading playlist: Music Test\n"
          ]
        },
        {
          "output_type": "display_data",
          "data": {
            "text/plain": [
              "<IPython.core.display.Javascript object>"
            ],
            "application/javascript": [
              "\n",
              "    async function download(id, filename, size) {\n",
              "      if (!google.colab.kernel.accessAllowed) {\n",
              "        return;\n",
              "      }\n",
              "      const div = document.createElement('div');\n",
              "      const label = document.createElement('label');\n",
              "      label.textContent = `Downloading \"${filename}\": `;\n",
              "      div.appendChild(label);\n",
              "      const progress = document.createElement('progress');\n",
              "      progress.max = size;\n",
              "      div.appendChild(progress);\n",
              "      document.body.appendChild(div);\n",
              "\n",
              "      const buffers = [];\n",
              "      let downloaded = 0;\n",
              "\n",
              "      const channel = await google.colab.kernel.comms.open(id);\n",
              "      // Send a message to notify the kernel that we're ready.\n",
              "      channel.send({})\n",
              "\n",
              "      for await (const message of channel.messages) {\n",
              "        // Send a message to notify the kernel that we're ready.\n",
              "        channel.send({})\n",
              "        if (message.buffers) {\n",
              "          for (const buffer of message.buffers) {\n",
              "            buffers.push(buffer);\n",
              "            downloaded += buffer.byteLength;\n",
              "            progress.value = downloaded;\n",
              "          }\n",
              "        }\n",
              "      }\n",
              "      const blob = new Blob(buffers, {type: 'application/binary'});\n",
              "      const a = document.createElement('a');\n",
              "      a.href = window.URL.createObjectURL(blob);\n",
              "      a.download = filename;\n",
              "      div.appendChild(a);\n",
              "      a.click();\n",
              "      div.remove();\n",
              "    }\n",
              "  "
            ]
          },
          "metadata": {}
        },
        {
          "output_type": "display_data",
          "data": {
            "text/plain": [
              "<IPython.core.display.Javascript object>"
            ],
            "application/javascript": [
              "download(\"download_ca0ef595-6bef-43b4-b2ff-7bad9fd25b13\", \"mp3_downloads.zip\", 14711812)"
            ]
          },
          "metadata": {}
        }
      ],
      "source": [
        "# 📦 Step 1: Install required packages\n",
        "!pip install -U yt-dlp         # For downloading YouTube videos\n",
        "!apt-get install -y ffmpeg     # For converting audio to MP3\n",
        "!pip install tqdm              # For progress display\n",
        "\n",
        "# 📚 Step 2: Import necessary libraries\n",
        "import os\n",
        "from yt_dlp import YoutubeDL\n",
        "from yt_dlp.utils import DownloadError\n",
        "from tqdm.notebook import tqdm\n",
        "from google.colab import files\n",
        "\n",
        "# 📁 Step 3: Create a folder to store downloaded MP3s\n",
        "output_folder = \"/content/mp3_downloads\"\n",
        "os.makedirs(output_folder, exist_ok=True)\n",
        "\n",
        "# 🔄 Step 4: Hook function to show download progress\n",
        "def download_hook(d):\n",
        "    if d['status'] == 'downloading':\n",
        "        total = d.get('total_bytes') or d.get('total_bytes_estimate') or 1\n",
        "        downloaded = d.get('downloaded_bytes', 0)\n",
        "        progress = int(downloaded / total * 100)\n",
        "        print(f\"⏬ Downloading: {progress}% - {d['filename']}\", end=\"\\r\")\n",
        "    elif d['status'] == 'finished':\n",
        "        print(f\"\\n✅ Finished downloading: {d['filename']}\")\n",
        "\n",
        "# 🎶 Step 5: Function to download and convert video(s) to MP3\n",
        "def download_and_convert(urls, ignore_errors=False):\n",
        "    ydl_opts = {\n",
        "        'format': 'bestaudio/best',  # Best audio format\n",
        "        'outtmpl': os.path.join(output_folder, '%(title)s.%(ext)s'),  # Output file name format\n",
        "        'progress_hooks': [download_hook],  # Hook for progress updates\n",
        "        'postprocessors': [{  # Convert to MP3 after download\n",
        "            'key': 'FFmpegExtractAudio',\n",
        "            'preferredcodec': 'mp3',\n",
        "            'preferredquality': '192',\n",
        "        }],\n",
        "        'quiet': False,\n",
        "        'ignoreerrors': ignore_errors,  # Skip errors if set to True (for playlists)\n",
        "    }\n",
        "\n",
        "    with YoutubeDL(ydl_opts) as ydl:\n",
        "        ydl.download(urls)\n",
        "\n",
        "# 🔘 Step 6: Choose mode - single video or full playlist\n",
        "mode = input(\"🔘 Type '1' to download a single video, or '2' for a full playlist: \").strip()\n",
        "\n",
        "# 🎥 If user chooses to download a single video\n",
        "if mode == '1':\n",
        "    while True:\n",
        "        video_url = input(\"🎥 Paste the YouTube video URL: \").strip()\n",
        "        try:\n",
        "            download_and_convert([video_url], ignore_errors=False)\n",
        "            break  # Exit loop if successful\n",
        "        except DownloadError:\n",
        "            print(\"❌ Video unavailable or blocked. Please try a different link.\")\n",
        "\n",
        "# 📃 If user chooses to download a full playlist\n",
        "elif mode == '2':\n",
        "    playlist_url = input(\"🎵 Paste the YouTube playlist URL: \").strip()\n",
        "    download_and_convert([playlist_url], ignore_errors=True)  # Skips errors in playlist\n",
        "\n",
        "# 🚫 If user inputs anything other than 1 or 2\n",
        "else:\n",
        "    print(\"❌ Invalid selection. Please enter '1' or '2'.\")\n",
        "\n",
        "# 🗜️ Step 7: Zip all MP3 files into a single archive\n",
        "!zip -r /content/mp3_downloads.zip /content/mp3_downloads > /dev/null\n",
        "\n",
        "# 📥 Step 8: Trigger file download to user's device\n",
        "files.download('/content/mp3_downloads.zip')\n"
      ]
    }
  ]
}